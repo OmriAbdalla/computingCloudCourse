{
  "nbformat": 4,
  "nbformat_minor": 0,
  "metadata": {
    "colab": {
      "provenance": [],
      "authorship_tag": "ABX9TyO3u55w/G0PYUzS9NKILbz+",
      "include_colab_link": true
    },
    "kernelspec": {
      "name": "python3",
      "display_name": "Python 3"
    },
    "language_info": {
      "name": "python"
    }
  },
  "cells": [
    {
      "cell_type": "markdown",
      "metadata": {
        "id": "view-in-github",
        "colab_type": "text"
      },
      "source": [
        "<a href=\"https://colab.research.google.com/github/OmriAbdalla/computingCloudCourse/blob/main/cloud_prac05_workWithFirebase.ipynb\" target=\"_parent\"><img src=\"https://colab.research.google.com/assets/colab-badge.svg\" alt=\"Open In Colab\"/></a>"
      ]
    },
    {
      "cell_type": "code",
      "execution_count": null,
      "metadata": {
        "colab": {
          "base_uri": "https://localhost:8080/"
        },
        "id": "tXETgm3qHvCM",
        "outputId": "f1dc6f6c-4954-4a8d-e685-64f433a33aff"
      },
      "outputs": [
        {
          "output_type": "stream",
          "name": "stdout",
          "text": [
            "Requirement already satisfied: firebase-admin in /usr/local/lib/python3.11/dist-packages (6.8.0)\n",
            "Requirement already satisfied: cachecontrol>=0.12.14 in /usr/local/lib/python3.11/dist-packages (from firebase-admin) (0.14.3)\n",
            "Requirement already satisfied: google-api-python-client>=1.7.8 in /usr/local/lib/python3.11/dist-packages (from firebase-admin) (2.169.0)\n",
            "Requirement already satisfied: google-cloud-storage>=1.37.1 in /usr/local/lib/python3.11/dist-packages (from firebase-admin) (2.19.0)\n",
            "Requirement already satisfied: pyjwt>=2.5.0 in /usr/local/lib/python3.11/dist-packages (from pyjwt[crypto]>=2.5.0->firebase-admin) (2.10.1)\n",
            "Requirement already satisfied: google-api-core<3.0.0dev,>=1.22.1 in /usr/local/lib/python3.11/dist-packages (from google-api-core[grpc]<3.0.0dev,>=1.22.1; platform_python_implementation != \"PyPy\"->firebase-admin) (2.24.2)\n",
            "Requirement already satisfied: google-cloud-firestore>=2.19.0 in /usr/local/lib/python3.11/dist-packages (from firebase-admin) (2.20.2)\n",
            "Requirement already satisfied: requests>=2.16.0 in /usr/local/lib/python3.11/dist-packages (from cachecontrol>=0.12.14->firebase-admin) (2.32.3)\n",
            "Requirement already satisfied: msgpack<2.0.0,>=0.5.2 in /usr/local/lib/python3.11/dist-packages (from cachecontrol>=0.12.14->firebase-admin) (1.1.0)\n",
            "Requirement already satisfied: googleapis-common-protos<2.0.0,>=1.56.2 in /usr/local/lib/python3.11/dist-packages (from google-api-core<3.0.0dev,>=1.22.1->google-api-core[grpc]<3.0.0dev,>=1.22.1; platform_python_implementation != \"PyPy\"->firebase-admin) (1.70.0)\n",
            "Requirement already satisfied: protobuf!=3.20.0,!=3.20.1,!=4.21.0,!=4.21.1,!=4.21.2,!=4.21.3,!=4.21.4,!=4.21.5,<7.0.0,>=3.19.5 in /usr/local/lib/python3.11/dist-packages (from google-api-core<3.0.0dev,>=1.22.1->google-api-core[grpc]<3.0.0dev,>=1.22.1; platform_python_implementation != \"PyPy\"->firebase-admin) (5.29.4)\n",
            "Requirement already satisfied: proto-plus<2.0.0,>=1.22.3 in /usr/local/lib/python3.11/dist-packages (from google-api-core<3.0.0dev,>=1.22.1->google-api-core[grpc]<3.0.0dev,>=1.22.1; platform_python_implementation != \"PyPy\"->firebase-admin) (1.26.1)\n",
            "Requirement already satisfied: google-auth<3.0.0,>=2.14.1 in /usr/local/lib/python3.11/dist-packages (from google-api-core<3.0.0dev,>=1.22.1->google-api-core[grpc]<3.0.0dev,>=1.22.1; platform_python_implementation != \"PyPy\"->firebase-admin) (2.38.0)\n",
            "Requirement already satisfied: grpcio<2.0dev,>=1.33.2 in /usr/local/lib/python3.11/dist-packages (from google-api-core[grpc]<3.0.0dev,>=1.22.1; platform_python_implementation != \"PyPy\"->firebase-admin) (1.71.0)\n",
            "Requirement already satisfied: grpcio-status<2.0.dev0,>=1.33.2 in /usr/local/lib/python3.11/dist-packages (from google-api-core[grpc]<3.0.0dev,>=1.22.1; platform_python_implementation != \"PyPy\"->firebase-admin) (1.71.0)\n",
            "Requirement already satisfied: httplib2<1.0.0,>=0.19.0 in /usr/local/lib/python3.11/dist-packages (from google-api-python-client>=1.7.8->firebase-admin) (0.22.0)\n",
            "Requirement already satisfied: google-auth-httplib2<1.0.0,>=0.2.0 in /usr/local/lib/python3.11/dist-packages (from google-api-python-client>=1.7.8->firebase-admin) (0.2.0)\n",
            "Requirement already satisfied: uritemplate<5,>=3.0.1 in /usr/local/lib/python3.11/dist-packages (from google-api-python-client>=1.7.8->firebase-admin) (4.1.1)\n",
            "Requirement already satisfied: google-cloud-core<3.0.0,>=1.4.1 in /usr/local/lib/python3.11/dist-packages (from google-cloud-firestore>=2.19.0->firebase-admin) (2.4.3)\n",
            "Requirement already satisfied: google-resumable-media>=2.7.2 in /usr/local/lib/python3.11/dist-packages (from google-cloud-storage>=1.37.1->firebase-admin) (2.7.2)\n",
            "Requirement already satisfied: google-crc32c<2.0dev,>=1.0 in /usr/local/lib/python3.11/dist-packages (from google-cloud-storage>=1.37.1->firebase-admin) (1.7.1)\n",
            "Requirement already satisfied: cryptography>=3.4.0 in /usr/local/lib/python3.11/dist-packages (from pyjwt[crypto]>=2.5.0->firebase-admin) (43.0.3)\n",
            "Requirement already satisfied: cffi>=1.12 in /usr/local/lib/python3.11/dist-packages (from cryptography>=3.4.0->pyjwt[crypto]>=2.5.0->firebase-admin) (1.17.1)\n",
            "Requirement already satisfied: cachetools<6.0,>=2.0.0 in /usr/local/lib/python3.11/dist-packages (from google-auth<3.0.0,>=2.14.1->google-api-core<3.0.0dev,>=1.22.1->google-api-core[grpc]<3.0.0dev,>=1.22.1; platform_python_implementation != \"PyPy\"->firebase-admin) (5.5.2)\n",
            "Requirement already satisfied: pyasn1-modules>=0.2.1 in /usr/local/lib/python3.11/dist-packages (from google-auth<3.0.0,>=2.14.1->google-api-core<3.0.0dev,>=1.22.1->google-api-core[grpc]<3.0.0dev,>=1.22.1; platform_python_implementation != \"PyPy\"->firebase-admin) (0.4.2)\n",
            "Requirement already satisfied: rsa<5,>=3.1.4 in /usr/local/lib/python3.11/dist-packages (from google-auth<3.0.0,>=2.14.1->google-api-core<3.0.0dev,>=1.22.1->google-api-core[grpc]<3.0.0dev,>=1.22.1; platform_python_implementation != \"PyPy\"->firebase-admin) (4.9.1)\n",
            "Requirement already satisfied: pyparsing!=3.0.0,!=3.0.1,!=3.0.2,!=3.0.3,<4,>=2.4.2 in /usr/local/lib/python3.11/dist-packages (from httplib2<1.0.0,>=0.19.0->google-api-python-client>=1.7.8->firebase-admin) (3.2.3)\n",
            "Requirement already satisfied: charset-normalizer<4,>=2 in /usr/local/lib/python3.11/dist-packages (from requests>=2.16.0->cachecontrol>=0.12.14->firebase-admin) (3.4.2)\n",
            "Requirement already satisfied: idna<4,>=2.5 in /usr/local/lib/python3.11/dist-packages (from requests>=2.16.0->cachecontrol>=0.12.14->firebase-admin) (3.10)\n",
            "Requirement already satisfied: urllib3<3,>=1.21.1 in /usr/local/lib/python3.11/dist-packages (from requests>=2.16.0->cachecontrol>=0.12.14->firebase-admin) (2.4.0)\n",
            "Requirement already satisfied: certifi>=2017.4.17 in /usr/local/lib/python3.11/dist-packages (from requests>=2.16.0->cachecontrol>=0.12.14->firebase-admin) (2025.4.26)\n",
            "Requirement already satisfied: pycparser in /usr/local/lib/python3.11/dist-packages (from cffi>=1.12->cryptography>=3.4.0->pyjwt[crypto]>=2.5.0->firebase-admin) (2.22)\n",
            "Requirement already satisfied: pyasn1<0.7.0,>=0.6.1 in /usr/local/lib/python3.11/dist-packages (from pyasn1-modules>=0.2.1->google-auth<3.0.0,>=2.14.1->google-api-core<3.0.0dev,>=1.22.1->google-api-core[grpc]<3.0.0dev,>=1.22.1; platform_python_implementation != \"PyPy\"->firebase-admin) (0.6.1)\n"
          ]
        }
      ],
      "source": [
        "!pip install firebase-admin"
      ]
    },
    {
      "cell_type": "code",
      "source": [
        "#write to db\n",
        "from firebase import firebase\n",
        "FBconn = firebase.FirebaseApplication('https://prac05-c36d8-default-rtdb.europe-west1.firebasedatabase.app/',None)\n",
        "while True:\n",
        "  temperature = int (input (\"what is the temperature?\"))\n",
        "  data_to_upload = {\n",
        "      'Temp' : temperature\n",
        "  }\n",
        "  result = FBconn.post('/myTest1/',data_to_upload)\n",
        "  print(result)\n"
      ],
      "metadata": {
        "colab": {
          "base_uri": "https://localhost:8080/",
          "height": 444
        },
        "id": "nSEN9jYSIrWz",
        "outputId": "8adc00a7-a9d9-4ae4-c1af-ca84459066d4"
      },
      "execution_count": null,
      "outputs": [
        {
          "output_type": "stream",
          "name": "stdout",
          "text": [
            "what is the temperature?23\n",
            "{'name': '-OQI8atKrJEAcfhZqSX4'}\n",
            "what is the temperature?18\n",
            "{'name': '-OQI93dybOJVAlpLEugr'}\n"
          ]
        },
        {
          "output_type": "error",
          "ename": "KeyboardInterrupt",
          "evalue": "Interrupted by user",
          "traceback": [
            "\u001b[0;31m---------------------------------------------------------------------------\u001b[0m",
            "\u001b[0;31mKeyboardInterrupt\u001b[0m                         Traceback (most recent call last)",
            "\u001b[0;32m<ipython-input-3-20ac6bbe94f7>\u001b[0m in \u001b[0;36m<cell line: 0>\u001b[0;34m()\u001b[0m\n\u001b[1;32m      2\u001b[0m \u001b[0mFBconn\u001b[0m \u001b[0;34m=\u001b[0m \u001b[0mfirebase\u001b[0m\u001b[0;34m.\u001b[0m\u001b[0mFirebaseApplication\u001b[0m\u001b[0;34m(\u001b[0m\u001b[0;34m'https://prac05-c36d8-default-rtdb.europe-west1.firebasedatabase.app/'\u001b[0m\u001b[0;34m,\u001b[0m\u001b[0;32mNone\u001b[0m\u001b[0;34m)\u001b[0m\u001b[0;34m\u001b[0m\u001b[0;34m\u001b[0m\u001b[0m\n\u001b[1;32m      3\u001b[0m \u001b[0;32mwhile\u001b[0m \u001b[0;32mTrue\u001b[0m\u001b[0;34m:\u001b[0m\u001b[0;34m\u001b[0m\u001b[0;34m\u001b[0m\u001b[0m\n\u001b[0;32m----> 4\u001b[0;31m   \u001b[0mtemperature\u001b[0m \u001b[0;34m=\u001b[0m \u001b[0mint\u001b[0m \u001b[0;34m(\u001b[0m\u001b[0minput\u001b[0m \u001b[0;34m(\u001b[0m\u001b[0;34m\"what is the temperature?\"\u001b[0m\u001b[0;34m)\u001b[0m\u001b[0;34m)\u001b[0m\u001b[0;34m\u001b[0m\u001b[0;34m\u001b[0m\u001b[0m\n\u001b[0m\u001b[1;32m      5\u001b[0m   data_to_upload = {\n\u001b[1;32m      6\u001b[0m       \u001b[0;34m'Temp'\u001b[0m \u001b[0;34m:\u001b[0m \u001b[0mtemperature\u001b[0m\u001b[0;34m\u001b[0m\u001b[0;34m\u001b[0m\u001b[0m\n",
            "\u001b[0;32m/usr/local/lib/python3.11/dist-packages/ipykernel/kernelbase.py\u001b[0m in \u001b[0;36mraw_input\u001b[0;34m(self, prompt)\u001b[0m\n\u001b[1;32m   1175\u001b[0m                 \u001b[0;34m\"raw_input was called, but this frontend does not support input requests.\"\u001b[0m\u001b[0;34m\u001b[0m\u001b[0;34m\u001b[0m\u001b[0m\n\u001b[1;32m   1176\u001b[0m             )\n\u001b[0;32m-> 1177\u001b[0;31m         return self._input_request(\n\u001b[0m\u001b[1;32m   1178\u001b[0m             \u001b[0mstr\u001b[0m\u001b[0;34m(\u001b[0m\u001b[0mprompt\u001b[0m\u001b[0;34m)\u001b[0m\u001b[0;34m,\u001b[0m\u001b[0;34m\u001b[0m\u001b[0;34m\u001b[0m\u001b[0m\n\u001b[1;32m   1179\u001b[0m             \u001b[0mself\u001b[0m\u001b[0;34m.\u001b[0m\u001b[0m_parent_ident\u001b[0m\u001b[0;34m[\u001b[0m\u001b[0;34m\"shell\"\u001b[0m\u001b[0;34m]\u001b[0m\u001b[0;34m,\u001b[0m\u001b[0;34m\u001b[0m\u001b[0;34m\u001b[0m\u001b[0m\n",
            "\u001b[0;32m/usr/local/lib/python3.11/dist-packages/ipykernel/kernelbase.py\u001b[0m in \u001b[0;36m_input_request\u001b[0;34m(self, prompt, ident, parent, password)\u001b[0m\n\u001b[1;32m   1217\u001b[0m             \u001b[0;32mexcept\u001b[0m \u001b[0mKeyboardInterrupt\u001b[0m\u001b[0;34m:\u001b[0m\u001b[0;34m\u001b[0m\u001b[0;34m\u001b[0m\u001b[0m\n\u001b[1;32m   1218\u001b[0m                 \u001b[0;31m# re-raise KeyboardInterrupt, to truncate traceback\u001b[0m\u001b[0;34m\u001b[0m\u001b[0;34m\u001b[0m\u001b[0m\n\u001b[0;32m-> 1219\u001b[0;31m                 \u001b[0;32mraise\u001b[0m \u001b[0mKeyboardInterrupt\u001b[0m\u001b[0;34m(\u001b[0m\u001b[0;34m\"Interrupted by user\"\u001b[0m\u001b[0;34m)\u001b[0m \u001b[0;32mfrom\u001b[0m \u001b[0;32mNone\u001b[0m\u001b[0;34m\u001b[0m\u001b[0;34m\u001b[0m\u001b[0m\n\u001b[0m\u001b[1;32m   1220\u001b[0m             \u001b[0;32mexcept\u001b[0m \u001b[0mException\u001b[0m\u001b[0;34m:\u001b[0m\u001b[0;34m\u001b[0m\u001b[0;34m\u001b[0m\u001b[0m\n\u001b[1;32m   1221\u001b[0m                 \u001b[0mself\u001b[0m\u001b[0;34m.\u001b[0m\u001b[0mlog\u001b[0m\u001b[0;34m.\u001b[0m\u001b[0mwarning\u001b[0m\u001b[0;34m(\u001b[0m\u001b[0;34m\"Invalid Message:\"\u001b[0m\u001b[0;34m,\u001b[0m \u001b[0mexc_info\u001b[0m\u001b[0;34m=\u001b[0m\u001b[0;32mTrue\u001b[0m\u001b[0;34m)\u001b[0m\u001b[0;34m\u001b[0m\u001b[0;34m\u001b[0m\u001b[0m\n",
            "\u001b[0;31mKeyboardInterrupt\u001b[0m: Interrupted by user"
          ]
        }
      ]
    },
    {
      "cell_type": "code",
      "source": [
        "#read from db\n",
        "from firebase import firebase\n",
        "firebase = firebase.FirebaseApplication('https://prac05-c36d8-default-rtdb.europe-west1.firebasedatabase.app/', None)\n",
        "result = firebase.get('/myTest1/', None)\n",
        "print(result)\n"
      ],
      "metadata": {
        "colab": {
          "base_uri": "https://localhost:8080/"
        },
        "id": "caHZQgybLaxM",
        "outputId": "6d0c2116-14d8-4e67-a763-fd8dc70f3e1b"
      },
      "execution_count": null,
      "outputs": [
        {
          "output_type": "stream",
          "name": "stdout",
          "text": [
            "{'-OQI8atKrJEAcfhZqSX4': {'Temp': 23}, '-OQI93dybOJVAlpLEugr': {'Temp': 18}}\n"
          ]
        }
      ]
    },
    {
      "cell_type": "code",
      "source": [
        "##workWithKeys:\n",
        "import json\n",
        "from firebase import firebase\n",
        "FBconn = firebase.FirebaseApplication('https://prac05-c36d8-default-rtdb.europe-west1.firebasedatabase.app/',None)\n",
        "res=FBconn.get('/myTest1/',None)\n",
        "for key in res:\n",
        "    print(key+\":\\t\", res[key])\n"
      ],
      "metadata": {
        "colab": {
          "base_uri": "https://localhost:8080/"
        },
        "id": "xoO5N3MDMDG6",
        "outputId": "42781b00-7194-4d0a-8e50-01a4c81818a2"
      },
      "execution_count": null,
      "outputs": [
        {
          "output_type": "stream",
          "name": "stdout",
          "text": [
            "-OQI8atKrJEAcfhZqSX4:\t {'Temp': 23}\n",
            "-OQI93dybOJVAlpLEugr:\t {'Temp': 18}\n"
          ]
        }
      ]
    },
    {
      "cell_type": "code",
      "source": [
        "##DB CRUD menu (CreateReadUpdateDelete):\n",
        "def get_all_records():\n",
        "    \"\"\"Retrieve all temperature records\"\"\"\n",
        "    return FBconn.get('/myTest1/', None)\n",
        "\n",
        "def update_temperature(record_id, new_temp):\n",
        "    \"\"\"Update an existing temperature record\"\"\"\n",
        "    return FBconn.put('/myTest1/' + record_id, 'Temp', new_temp)\n",
        "\n",
        "def delete_record(record_id):\n",
        "    \"\"\"Delete a temperature record\"\"\"\n",
        "    return FBconn.delete('/myTest1/', record_id)\n",
        "\n",
        "def display_records():\n",
        "    \"\"\"Display all temperature records\"\"\"\n",
        "    records = get_all_records()\n",
        "    if records:\n",
        "        print(\"\\nCurrent Records:\")\n",
        "        for record_id, data in records.items():\n",
        "            print(f\"ID: {record_id} - Temperature: {data['Temp']}°C\")\n",
        "    else:\n",
        "        print(\"\\nNo records found\")\n",
        "while True:\n",
        "    print(\"\\nTemperature Tracker Menu:\")\n",
        "    print(\"1. Add new temperature\")\n",
        "    print(\"2. Update existing temperature\")\n",
        "    print(\"3. Delete temperature record\")\n",
        "    print(\"4. View all records\")\n",
        "    print(\"5. Exit\")\n",
        "\n",
        "    choice = input(\"\\nEnter your choice (1-5): \")\n",
        "    if choice == '1':\n",
        "        temp = int(input(\"Enter new temperature: \"))\n",
        "        data_to_upload = {'Temp': temp}\n",
        "        result = FBconn.post('/myTest1/', data_to_upload)\n",
        "        print(\"Added with ID:\", result['name'])\n",
        "\n",
        "    elif choice == '2':\n",
        "        record_id = input(\"Enter record ID to update: \")\n",
        "        new_temp = int(input(\"Enter new temperature: \"))\n",
        "        update_temperature(record_id, new_temp)\n",
        "        print(\"Record updated.\")\n",
        "\n",
        "    elif choice == '3':\n",
        "        record_id = input(\"Enter record ID to delete: \")\n",
        "        delete_record(record_id)\n",
        "        print(\"Record deleted.\")\n",
        "\n",
        "    elif choice == '4':\n",
        "        display_records()\n",
        "\n",
        "    elif choice == '5':\n",
        "        print(\"Exiting program.\")\n",
        "        break\n",
        "\n",
        "    else:\n",
        "        print(\"Invalid choice. Please enter a number between 1 and 5.\")\n"
      ],
      "metadata": {
        "colab": {
          "base_uri": "https://localhost:8080/"
        },
        "id": "0usNiSGhNTYr",
        "outputId": "3b7b601a-c60b-4315-9d31-b3e89ef129f5"
      },
      "execution_count": null,
      "outputs": [
        {
          "output_type": "stream",
          "name": "stdout",
          "text": [
            "\n",
            "Temperature Tracker Menu:\n",
            "1. Add new temperature\n",
            "2. Update existing temperature\n",
            "3. Delete temperature record\n",
            "4. View all records\n",
            "5. Exit\n",
            "\n",
            "Enter your choice (1-5): 4\n",
            "\n",
            "Current Records:\n",
            "ID: -OQI8atKrJEAcfhZqSX4 - Temperature: 23°C\n",
            "ID: -OQI93dybOJVAlpLEugr - Temperature: 18°C\n",
            "ID: -OQIDMHhgeMJPsdUQU7W - Temperature: 34°C\n",
            "ID: -OQIE9hdVuRJ4bygTPko - Temperature: 50°C\n",
            "\n",
            "Temperature Tracker Menu:\n",
            "1. Add new temperature\n",
            "2. Update existing temperature\n",
            "3. Delete temperature record\n",
            "4. View all records\n",
            "5. Exit\n",
            "\n",
            "Enter your choice (1-5): 1\n",
            "Enter new temperature: 45\n",
            "Added with ID: -OQIEXhE_KOss7PqUbec\n",
            "\n",
            "Temperature Tracker Menu:\n",
            "1. Add new temperature\n",
            "2. Update existing temperature\n",
            "3. Delete temperature record\n",
            "4. View all records\n",
            "5. Exit\n",
            "\n",
            "Enter your choice (1-5): 4\n",
            "\n",
            "Current Records:\n",
            "ID: -OQI8atKrJEAcfhZqSX4 - Temperature: 23°C\n",
            "ID: -OQI93dybOJVAlpLEugr - Temperature: 18°C\n",
            "ID: -OQIDMHhgeMJPsdUQU7W - Temperature: 34°C\n",
            "ID: -OQIE9hdVuRJ4bygTPko - Temperature: 50°C\n",
            "ID: -OQIEXhE_KOss7PqUbec - Temperature: 45°C\n",
            "\n",
            "Temperature Tracker Menu:\n",
            "1. Add new temperature\n",
            "2. Update existing temperature\n",
            "3. Delete temperature record\n",
            "4. View all records\n",
            "5. Exit\n",
            "\n",
            "Enter your choice (1-5): 2\n",
            "Enter record ID to update: -OQI93dybOJVAlpLEugr\n",
            "Enter new temperature: 28\n",
            "Record updated.\n",
            "\n",
            "Temperature Tracker Menu:\n",
            "1. Add new temperature\n",
            "2. Update existing temperature\n",
            "3. Delete temperature record\n",
            "4. View all records\n",
            "5. Exit\n",
            "\n",
            "Enter your choice (1-5): 4\n",
            "\n",
            "Current Records:\n",
            "ID: -OQI8atKrJEAcfhZqSX4 - Temperature: 23°C\n",
            "ID: -OQI93dybOJVAlpLEugr - Temperature: 28°C\n",
            "ID: -OQIDMHhgeMJPsdUQU7W - Temperature: 34°C\n",
            "ID: -OQIE9hdVuRJ4bygTPko - Temperature: 50°C\n",
            "ID: -OQIEXhE_KOss7PqUbec - Temperature: 45°C\n",
            "\n",
            "Temperature Tracker Menu:\n",
            "1. Add new temperature\n",
            "2. Update existing temperature\n",
            "3. Delete temperature record\n",
            "4. View all records\n",
            "5. Exit\n",
            "\n",
            "Enter your choice (1-5): 3\n",
            "Enter record ID to delete: -OQI8atKrJEAcfhZqSX4\n",
            "Record deleted.\n",
            "\n",
            "Temperature Tracker Menu:\n",
            "1. Add new temperature\n",
            "2. Update existing temperature\n",
            "3. Delete temperature record\n",
            "4. View all records\n",
            "5. Exit\n",
            "\n",
            "Enter your choice (1-5): 4\n",
            "\n",
            "Current Records:\n",
            "ID: -OQI93dybOJVAlpLEugr - Temperature: 28°C\n",
            "ID: -OQIDMHhgeMJPsdUQU7W - Temperature: 34°C\n",
            "ID: -OQIE9hdVuRJ4bygTPko - Temperature: 50°C\n",
            "ID: -OQIEXhE_KOss7PqUbec - Temperature: 45°C\n",
            "\n",
            "Temperature Tracker Menu:\n",
            "1. Add new temperature\n",
            "2. Update existing temperature\n",
            "3. Delete temperature record\n",
            "4. View all records\n",
            "5. Exit\n",
            "\n",
            "Enter your choice (1-5): 5\n",
            "Exiting program.\n"
          ]
        }
      ]
    }
  ]
}